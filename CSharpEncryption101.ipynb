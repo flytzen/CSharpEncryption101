{
 "cells": [
  {
   "cell_type": "markdown",
   "metadata": {
    "dotnet_interactive": {
     "language": "csharp"
    },
    "vscode": {
     "languageId": "dotnet-interactive.csharp"
    }
   },
   "source": [
    "# C# Encryption 101\n",
    "The very basics you need to avoid doing encryption wrong"
   ]
  },
  {
   "cell_type": "markdown",
   "metadata": {},
   "source": [
    "## Introduction"
   ]
  },
  {
   "cell_type": "markdown",
   "metadata": {},
   "source": [
    "<table>\n",
    "<tr>\n",
    "<td><img src=\"https://www.lytzen.name/assets/franslytzenpicture.jpg\"/></td>\n",
    "<td>Moving software to the cloud since 2006.\n",
    "\n",
    "CTO and CISO at NewOrbit; architecting and implementing large and small-scale software for our customers, all running on Microsoft Azure.\n",
    "\n",
    "Helping other development organisations make the most of Azure through being an Azure Gold Partner and Reseller (“Direct CSP” in the parlance).\n",
    "\n",
    "Obsessed with security, performance and scalability. Also, penny-pincher in the cloud.</td>\n",
    "</tr>\n",
    "</table>\n",
    "\n",
    "----\n",
    "We help organisations make the most of Azure. One of the things we do is Security Reviews on what people do in the cloud and sometimes that involves looking at code that encrypts data. The honest truth is that the encryption functionality in C# is not userfriendly and people make mistakes with it all the time. \n",
    "\n",
    "---\n",
    "\n",
    "### I asked on Twitter if there was an appetite for this talk\n",
    "\n",
    "<iframe id=\"twitter-widget-0\" scrolling=\"no\" frameborder=\"0\" allowtransparency=\"true\" allowfullscreen=\"true\" class=\"\" style=\"width: 550px; height: 361px; \" title=\"Twitter Tweet\" src=\"https://platform.twitter.com/embed/Tweet.html?dnt=false&amp;embedId=twitter-widget-0&amp;features=eyJ0ZndfdHdlZXRfZWRpdF9iYWNrZW5kIjp7ImJ1Y2tldCI6Im9mZiIsInZlcnNpb24iOm51bGx9LCJ0ZndfcmVmc3JjX3Nlc3Npb24iOnsiYnVja2V0Ijoib2ZmIiwidmVyc2lvbiI6bnVsbH0sInRmd190d2VldF9yZXN1bHRfbWlncmF0aW9uXzEzOTc5Ijp7ImJ1Y2tldCI6InR3ZWV0X3Jlc3VsdCIsInZlcnNpb24iOm51bGx9LCJ0Zndfc2Vuc2l0aXZlX21lZGlhX2ludGVyc3RpdGlhbF8xMzk2MyI6eyJidWNrZXQiOiJpbnRlcnN0aXRpYWwiLCJ2ZXJzaW9uIjpudWxsfSwidGZ3X2V4cGVyaW1lbnRzX2Nvb2tpZV9leHBpcmF0aW9uIjp7ImJ1Y2tldCI6MTIwOTYwMCwidmVyc2lvbiI6bnVsbH0sInRmd19kdXBsaWNhdGVfc2NyaWJlc190b19zZXR0aW5ncyI6eyJidWNrZXQiOiJvZmYiLCJ2ZXJzaW9uIjpudWxsfSwidGZ3X3VzZXJfZm9sbG93X2ludGVudF8xNDQwNiI6eyJidWNrZXQiOiJmb2xsb3ciLCJ2ZXJzaW9uIjpudWxsfSwidGZ3X3R3ZWV0X2VkaXRfZnJvbnRlbmQiOnsiYnVja2V0Ijoib2ZmIiwidmVyc2lvbiI6bnVsbH19&amp;frame=false&amp;hideCard=false&amp;hideThread=false&amp;id=1544268086076907521&amp;lang=en&amp;origin=https%3A%2F%2Fpublish.twitter.com%2F%3Fquery%3Dhttps%253A%252F%252Ftwitter.com%252Fflytzen%252Fstatus%252F1544268086076907521%26widget%3DTweet&amp;sessionId=59e9c3c5a849f572513093364300882fb644a37f&amp;theme=light&amp;widgetsVersion=b45a03c79d4c1%3A1654150928467&amp;width=550px\" data-tweet-id=\"1544268086076907521\"></iframe>"
   ]
  },
  {
   "cell_type": "markdown",
   "metadata": {},
   "source": [
    "## 1: It's bytes all the way"
   ]
  },
  {
   "cell_type": "markdown",
   "metadata": {},
   "source": [
    "Encryption functions are *maths* functions - they operate on numbers. They don't really understand things such as text, which is why all the inputs and outputs are *byte arrays* because they can all be treated as, and be broken into, *numbers* of differing sizes. This includes the encryption key, the payload and the encrypted content. "
   ]
  },
  {
   "cell_type": "markdown",
   "metadata": {},
   "source": [
    "Having a decent understanding of byte arrays, streams *and stream writers* as well as how to convert between text and bytes is essential to be able to use the encryption APIs well.\n",
    "\n",
    "<img src=\"https://www.alpharithms.com/wp-content/uploads/338/bit-vs-byte-illustration.jpg\" style=\"width:400px;\">"
   ]
  },
  {
   "cell_type": "markdown",
   "metadata": {},
   "source": [
    "### A little detour into text and bytes and streams"
   ]
  },
  {
   "cell_type": "markdown",
   "metadata": {},
   "source": [
    "This is a big subject - I can only give you the very basics here."
   ]
  },
  {
   "cell_type": "markdown",
   "metadata": {},
   "source": [
    "#### Text has to be converted to and from bytes using a specific encoding standard"
   ]
  },
  {
   "cell_type": "markdown",
   "metadata": {},
   "source": [
    "- Basically, a particular byte (or sequence of bytes) in a file or sent over the wire may refer to *different* letters, depending on the standard\n",
    "- If in doubt, use UTF-8.\n",
    "- Your string variable is, of course, internally stored as a sequence of bytes - but it's (effectively) UTF-16, which you probably don't want to use."
   ]
  },
  {
   "cell_type": "code",
   "execution_count": null,
   "metadata": {
    "dotnet_interactive": {
     "language": "csharp"
    },
    "vscode": {
     "languageId": "dotnet-interactive.csharp"
    }
   },
   "outputs": [
    {
     "name": "stdout",
     "output_type": "stream",
     "text": [
      "ASCII: 48-65-6C-6C-6F-20-3F-67-69-72-20-3F-20-3F-3F\r\n",
      "UTF8:  48-65-6C-6C-6F-20-C3-86-67-69-72-20-E4-B8-AA-20-F0-9F-98-AE\r\n",
      "UTF16: 48-00-65-00-6C-00-6C-00-6F-00-20-00-C6-00-67-00-69-00-72-00-20-00-2A-4E-20-00-3D-D8-2E-DE\r\n",
      "-----------------------\r\n",
      "ASCII: Hello ?gir ? ??\r\n",
      "UTF8:  Hello Ægir 个 😮\r\n",
      "UTF16: Hello Ægir 个 😮\r\n"
     ]
    }
   ],
   "source": [
    "var data = \"Hello Ægir 个 😮\";\n",
    "\n",
    "var asciiBytes = Encoding.ASCII.GetBytes(data);\n",
    "var utf8Bytes = Encoding.UTF8.GetBytes(data);\n",
    "var utf16Bytes = Encoding.Unicode.GetBytes(data);\n",
    "\n",
    "Console.WriteLine(\"ASCII: {0}\", BitConverter.ToString(asciiBytes));\n",
    "Console.WriteLine(\"UTF8:  {0}\", BitConverter.ToString(utf8Bytes));\n",
    "Console.WriteLine(\"UTF16: {0}\", BitConverter.ToString(utf16Bytes));\n",
    "Console.WriteLine(\"-----------------------\");\n",
    "Console.WriteLine(\"ASCII: {0}\", Encoding.ASCII.GetString(asciiBytes));\n",
    "Console.WriteLine(\"UTF8:  {0}\", Encoding.UTF8.GetString(utf8Bytes));\n",
    "Console.WriteLine(\"UTF16: {0}\", Encoding.Unicode.GetString(utf16Bytes));"
   ]
  },
  {
   "cell_type": "markdown",
   "metadata": {},
   "source": [
    "#### Streams are kinda similar to byte arrays (at least for our purpose today)"
   ]
  },
  {
   "cell_type": "markdown",
   "metadata": {},
   "source": [
    "- They both \"hold\" a sequence of bytes\n",
    "- You can usually just keep writing to Stream, wheras you have to pre-declare the length of a byte array\n",
    "- Streams *may* be \"forward only\"\n",
    "- Streams are a very broad abstraction that covers too many things"
   ]
  },
  {
   "cell_type": "markdown",
   "metadata": {},
   "source": [
    "### Back to the bytes"
   ]
  },
  {
   "cell_type": "markdown",
   "metadata": {},
   "source": [
    "#### It looks a bit like this when you remove the nice syntactical sugar:"
   ]
  },
  {
   "cell_type": "code",
   "execution_count": null,
   "metadata": {
    "dotnet_interactive": {
     "language": "csharp"
    },
    "vscode": {
     "languageId": "dotnet-interactive.csharp"
    }
   },
   "outputs": [],
   "source": [
    "// This code is not tested, and will probably not work and you almost certainly shouldn't use it as-is!!\n",
    "using System;\n",
    "using System.Security.Cryptography;\n",
    "\n",
    "var key = new byte[32] { 0, 1, 2, 3, 4, 5, 6, 7, 8, 9, 10, 11, 12, 13, 14, 15, 16, 17, 18, 19, 20, 21, 22, 23, 24, 25, 26, 27, 28, 29, 30, 31 };\n",
    "var input = new byte[16] { 0, 1, 2, 3, 4, 5, 6, 7, 8, 9, 10, 11, 12, 13, 14, 15 };\n",
    "var outputLength = (((input.Length / 16) + 1) * 16);\n",
    "var output = new byte[outputLength];\n",
    "\n",
    "using (var aes = Aes.Create())\n",
    "{\n",
    "    var encryptor = aes.CreateEncryptor();\n",
    "\n",
    "    var inputLength = input.Length;\n",
    "    var initialBlocks = (inputLength - 1) / 16;  \n",
    "    for (int i = 0; i < initialBlocks; i++)\n",
    "    {\n",
    "        var position = i * 16;\n",
    "        encryptor.TransformBlock(input, position, 16, output, position);\n",
    "    }\n",
    "\n",
    "    var finalBlockStart = initialBlocks * 16;\n",
    "    var finalBlockLength = inputLength - (initialBlocks * 16);\n",
    "    var finalBlock = encryptor.TransformFinalBlock(input, finalBlockStart, finalBlockLength);\n",
    "\n",
    "    finalBlock.CopyTo(output, finalBlockStart);\n",
    "}"
   ]
  },
  {
   "cell_type": "markdown",
   "metadata": {},
   "source": [
    "#### That's rather ugly, so in practice you would tend to do something more like this. "
   ]
  },
  {
   "cell_type": "code",
   "execution_count": null,
   "metadata": {
    "dotnet_interactive": {
     "language": "csharp"
    },
    "vscode": {
     "languageId": "dotnet-interactive.csharp"
    }
   },
   "outputs": [],
   "source": [
    "// This example encrypts text held in memory! If your data is already in binary format - or just in a file - you can do it a little bit simpler\n",
    "// Most of the layers here are about converting between binary and string formats! The crypto part is simpler. I'll come back to that.\n",
    "using System.Security.Cryptography;\n",
    "using System.IO;\n",
    "\n",
    "var key = Encoding.ASCII.GetBytes(\"MySuperSecretKeyThatIs32BytesLon\"); // Using text to create a key as bytes - not ideal!\n",
    "var data = \"Hello Ægir 个 😮\";\n",
    "\n",
    "byte[] encryptedBytes;\n",
    "\n",
    "// Encrypt the data\n",
    "using (var aes = Aes.Create())\n",
    "using (var encryptor = aes.CreateEncryptor(key, aes.IV)) // Provide your own key, but use the generated IV\n",
    "using (var encryptedStream = new MemoryStream())\n",
    "using (var cryptoStream = new CryptoStream(encryptedStream, encryptor, CryptoStreamMode.Write))\n",
    "using (var streamWriter = new StreamWriter(cryptoStream, Encoding.UTF8)) // This handles converting your data from text to bytes\n",
    "{\n",
    "    encryptedStream.Write(aes.IV, 0, aes.IV.Length); // Write the IV to the stream\n",
    "    streamWriter.Write(data); // Encrypt the data\n",
    "    streamWriter.Flush();\n",
    "    cryptoStream.FlushFinalBlock();\n",
    "    encryptedBytes = encryptedStream.ToArray();\n",
    "}"
   ]
  },
  {
   "cell_type": "markdown",
   "metadata": {},
   "source": [
    "## 2: Use Symmetric encryption for encrypting data"
   ]
  },
  {
   "cell_type": "markdown",
   "metadata": {},
   "source": [
    "- Symmetric means you use the same key for encryption and decryption  \n",
    "    -  It is very fast and can handle large volumes of data  \n",
    "- Assymetric encryption uses different keys for encryption and decryption\n",
    "    - It is slow and, in practice, can only encrypt very small bits of data\n",
    "    - It has many other cryptographic uses\n",
    "\n",
    "\n",
    "In the bonus content I will explain how you can combine them."
   ]
  },
  {
   "cell_type": "markdown",
   "metadata": {},
   "source": [
    "## 3: Use AES for symmetric Encryption"
   ]
  },
  {
   "cell_type": "markdown",
   "metadata": {},
   "source": [
    "- AES is the symmetric encryption algorithm you should use by default. Cryptographic experts may choose others for specific purposes - but unless that's you, stick to AES.\n",
    "\n",
    "- AES uses Rijndael - yes. But that doesn't mean you should directly use Rijndael. In fact, it has now been [marked as obsolete](https://github.com/dotnet/runtime/issues/46930). Use AES directly and let .Net handle the defaults."
   ]
  },
  {
   "cell_type": "markdown",
   "metadata": {},
   "source": [
    "**Don't do this:**"
   ]
  },
  {
   "cell_type": "code",
   "execution_count": null,
   "metadata": {
    "dotnet_interactive": {
     "language": "csharp"
    },
    "vscode": {
     "languageId": "dotnet-interactive.csharp"
    }
   },
   "outputs": [],
   "source": [
    "using System.Security.Cryptography;\n",
    "\n",
    "var rijndaelEncryptoer = Rijndael.Create();"
   ]
  },
  {
   "cell_type": "markdown",
   "metadata": {},
   "source": [
    "**Do this:**"
   ]
  },
  {
   "cell_type": "code",
   "execution_count": null,
   "metadata": {
    "dotnet_interactive": {
     "language": "csharp"
    },
    "vscode": {
     "languageId": "dotnet-interactive.csharp"
    }
   },
   "outputs": [],
   "source": [
    "using System.Security.Cryptography;\n",
    "\n",
    "var encryptor = Aes.Create();"
   ]
  },
  {
   "cell_type": "markdown",
   "metadata": {},
   "source": [
    "## 4: Leave the default AES settings alone"
   ]
  },
  {
   "cell_type": "markdown",
   "metadata": {},
   "source": [
    "Unfortunately, the C# implementation of AES allows you to play with all the sharp knives. Do *not* change the defaults - Microsoft have already set them to their recommended values.\n",
    "\n",
    "<img src=\"https://thumbs.dreamstime.com/b/little-baby-boy-reaching-hand-sharp-knife-kitchen-table-don-t-leave-kids-alone-little-baby-boy-reaching-hand-sharp-159366137.jpg\" />"
   ]
  },
  {
   "cell_type": "markdown",
   "metadata": {},
   "source": [
    "*Bad*:"
   ]
  },
  {
   "cell_type": "code",
   "execution_count": null,
   "metadata": {
    "dotnet_interactive": {
     "language": "csharp"
    },
    "vscode": {
     "languageId": "dotnet-interactive.csharp"
    }
   },
   "outputs": [],
   "source": [
    "using System.Security.Cryptography;\n",
    "\n",
    "using (var aes = Aes.Create())\n",
    "{\n",
    "    aes.BlockSize = 128;\n",
    "    aes.Mode = CipherMode.ECB;\n",
    "    aes.Padding = PaddingMode.ANSIX923;\n",
    "    //.... do encryption work\n",
    "}"
   ]
  },
  {
   "cell_type": "markdown",
   "metadata": {},
   "source": [
    "*Good*:"
   ]
  },
  {
   "cell_type": "code",
   "execution_count": null,
   "metadata": {
    "dotnet_interactive": {
     "language": "csharp"
    },
    "vscode": {
     "languageId": "dotnet-interactive.csharp"
    }
   },
   "outputs": [],
   "source": [
    "using System.Security.Cryptography;\n",
    "\n",
    "using (var aes = Aes.Create())\n",
    "{\n",
    "    //.... do encryption work\n",
    "}"
   ]
  },
  {
   "cell_type": "markdown",
   "metadata": {},
   "source": [
    "## 5: The IV Value is important!"
   ]
  },
  {
   "cell_type": "markdown",
   "metadata": {},
   "source": [
    "- The \"Initialisation Vector\" (IV) is like a random salt or a seed.\n",
    "- Let AES create a new, random value for each item you encrypt\n",
    "  - Do *not* set it to a fixed value!\n",
    "- Keep the IV value with the item (it is not secret) so you can decrypt the content"
   ]
  },
  {
   "cell_type": "code",
   "execution_count": null,
   "metadata": {
    "dotnet_interactive": {
     "language": "csharp"
    },
    "vscode": {
     "languageId": "dotnet-interactive.csharp"
    }
   },
   "outputs": [],
   "source": [
    "// This example encrypts text held in memory! If your data is already in binary format - or just in a file - you can do it a little bit simpler\n",
    "// Most of the layers here are about converting between binary and string formats! The crypto part is simpler. I'll come back to that.\n",
    "using System.Security.Cryptography;\n",
    "using System.IO;\n",
    "\n",
    "var key = Encoding.ASCII.GetBytes(\"MySuperSecretKeyThatIs32BytesLon\"); // Using text to create a key as bytes - not ideal!\n",
    "var data = \"Hello Ægir 个 😮\";\n",
    "\n",
    "byte[] encryptedBytes;\n",
    "\n",
    "using (var aes = Aes.Create())\n",
    "using (var encryptor = aes.CreateEncryptor(key, aes.IV)) // Provide your own key, but use the generated IV\n",
    "using (var encryptedStream = new MemoryStream())\n",
    "using (var cryptoStream = new CryptoStream(encryptedStream, encryptor, CryptoStreamMode.Write))\n",
    "using (var streamWriter = new StreamWriter(encryptedStream, Encoding.UTF8)) // This handles converting your data from text to bytes\n",
    "{\n",
    "    cryptoStream.Write(aes.IV, 0, aes.IV.Length); // Write the IV to the stream\n",
    "    streamWriter.Write(data); // Encrypt the data\n",
    "    streamWriter.Flush();\n",
    "    cryptoStream.FlushFinalBlock();\n",
    "    encryptedBytes = encryptedStream.ToArray();\n",
    "}"
   ]
  },
  {
   "cell_type": "markdown",
   "metadata": {},
   "source": [
    "## Examples"
   ]
  },
  {
   "cell_type": "markdown",
   "metadata": {},
   "source": [
    "### Utility and intro"
   ]
  },
  {
   "cell_type": "markdown",
   "metadata": {},
   "source": [
    "These examples all use the `ICryptoStream` interface. For some scenarios, it can be cleaner to use the `byte[]` interface - but it has other complexities to get your head around so I strongly recommend using the Stream based interface for your own sanity."
   ]
  },
  {
   "cell_type": "markdown",
   "metadata": {},
   "source": [
    "**Create a file we can encrypt**"
   ]
  },
  {
   "cell_type": "code",
   "execution_count": null,
   "metadata": {
    "dotnet_interactive": {
     "language": "csharp"
    },
    "vscode": {
     "languageId": "dotnet-interactive.csharp"
    }
   },
   "outputs": [],
   "source": [
    "using System.IO;\n",
    "// Utility function\n",
    "public static void DeleteIfExists(this string fileName)\n",
    "{\n",
    "    if (File.Exists(fileName))\n",
    "    {\n",
    "        File.Delete(fileName);\n",
    "    }\n",
    "}\n"
   ]
  },
  {
   "cell_type": "code",
   "execution_count": null,
   "metadata": {
    "dotnet_interactive": {
     "language": "csharp"
    },
    "vscode": {
     "languageId": "dotnet-interactive.csharp"
    }
   },
   "outputs": [],
   "source": [
    "using System.IO;\n",
    "// Write some text to a file so we can look at stuff\n",
    "\n",
    "var inputFileName = \"input.txt\";\n",
    "\n",
    "inputFileName.DeleteIfExists();\n",
    "\n",
    "using (var inputFile = File.CreateText(inputFileName)) // CreateText always uses UTF8!\n",
    "{\n",
    "    inputFile.WriteLine(\"Hello Ægir 个 😮\");\n",
    "}"
   ]
  },
  {
   "cell_type": "markdown",
   "metadata": {},
   "source": [
    "**Create an encryption key**"
   ]
  },
  {
   "cell_type": "code",
   "execution_count": null,
   "metadata": {
    "dotnet_interactive": {
     "language": "csharp"
    },
    "vscode": {
     "languageId": "dotnet-interactive.csharp"
    }
   },
   "outputs": [],
   "source": [
    "using System.Security.Cryptography;\n",
    "// This creates a random key and then Base64 encodes it so you can store it in config (be careful to do this safely!)\n",
    "var keyAsBase64 = Convert.ToBase64String(Aes.Create().Key);"
   ]
  },
  {
   "cell_type": "markdown",
   "metadata": {},
   "source": [
    "### Binary/Stream Encryption"
   ]
  },
  {
   "cell_type": "code",
   "execution_count": null,
   "metadata": {
    "dotnet_interactive": {
     "language": "csharp"
    },
    "vscode": {
     "languageId": "dotnet-interactive.csharp"
    }
   },
   "outputs": [
    {
     "name": "stdout",
     "output_type": "stream",
     "text": [
      "Input: Hello Ægir 个 😮\r\n",
      "\r\n",
      "Decrypted: Hello Ægir 个 😮\r\n",
      "\r\n"
     ]
    }
   ],
   "source": [
    "// This example uses files to avoid dealing with text-to-byte conversions and streamreaders/writers\n",
    "// It works equally well with, say, a request stream in a web application as an input and, say, an Azure Blob stream for the output\n",
    "// No need to use MemoryStream in the middle, nor to convert to/from text.\n",
    "// If you do want to encrypt/decrypt text in memory, you need to do those conversions and use streamwriters/readers and a memorystream.\n",
    "using System.Security.Cryptography;\n",
    "using System.IO;\n",
    "\n",
    "var encryptedFileName = \"encrypted.bin\";\n",
    "var decryptedFileName = \"decrypted.txt\";\n",
    "encryptedFileName.DeleteIfExists();\n",
    "decryptedFileName.DeleteIfExists();\n",
    "\n",
    "var key = Convert.FromBase64String(keyAsBase64);\n",
    "\n",
    "// Encrypt the file\n",
    "using (var inputStream = File.OpenRead(inputFileName)) // Opens the file as BINARY!\n",
    "using (var outputStream = File.Create(encryptedFileName)) // Creates the output file as BINARY!\n",
    "using (var aes = Aes.Create())\n",
    "using (var encryptor = aes.CreateEncryptor(key, aes.IV)) // Provide your own key, but use the generated IV\n",
    "using (var cryptoStream = new CryptoStream(outputStream, encryptor, CryptoStreamMode.Write))\n",
    "{\n",
    "    cryptoStream.Write(aes.IV, 0, aes.IV.Length); // Write the IV to the stream\n",
    "    inputStream.CopyTo(cryptoStream); // Encrypt the data\n",
    "    cryptoStream.FlushFinalBlock();\n",
    "    outputStream.Flush();\n",
    "}\n",
    "\n",
    "\n",
    "// Decrypt the file\n",
    "using (var inputStream = File.OpenRead(encryptedFileName)) // Opens the file as BINARY!\n",
    "using (var outputStream = File.Create(decryptedFileName)) // Creates the output file as BINARY!\n",
    "using (var aes = Aes.Create()) \n",
    "{\n",
    "    byte[] iv = new byte[16];\n",
    "    inputStream.Read(iv, 0, iv.Length); // Read the IV from the stream\n",
    "    using (var decryptor = aes.CreateDecryptor(key, iv))\n",
    "    using (var cryptoStream = new CryptoStream(inputStream, decryptor, CryptoStreamMode.Read))  \n",
    "    {\n",
    "        {\n",
    "            cryptoStream.CopyTo(outputStream); // Note that the stream pointer is at byte 16 at this point\n",
    "            outputStream.Flush();\n",
    "        }\n",
    "    }\n",
    "}\n",
    "\n",
    "// Check\n",
    "var inputText = File.ReadAllText(inputFileName);\n",
    "var decryptedText = File.ReadAllText(decryptedFileName);\n",
    "Console.WriteLine(\"Input: {0}\", inputText);\n",
    "Console.WriteLine(\"Decrypted: {0}\", decryptedText);\n"
   ]
  },
  {
   "cell_type": "markdown",
   "metadata": {},
   "source": [
    "### Text encryption"
   ]
  },
  {
   "cell_type": "code",
   "execution_count": null,
   "metadata": {
    "dotnet_interactive": {
     "language": "csharp"
    },
    "vscode": {
     "languageId": "dotnet-interactive.csharp"
    }
   },
   "outputs": [
    {
     "name": "stdout",
     "output_type": "stream",
     "text": [
      "Input: Hello Ægir 个 😮\r\n",
      "Decrypted: Hello Ægir 个 😮\r\n"
     ]
    }
   ],
   "source": [
    "using System.Security.Cryptography;\n",
    "using System.IO;\n",
    "\n",
    "var key = Convert.FromBase64String(keyAsBase64);\n",
    "var data = \"Hello Ægir 个 😮\";\n",
    "\n",
    "byte[] encryptedBytes;\n",
    "\n",
    "// Encrypt the data\n",
    "using (var aes = Aes.Create())\n",
    "using (var encryptor = aes.CreateEncryptor(key, aes.IV)) // Provide your own key, but use the generated IV\n",
    "using (var encryptedStream = new MemoryStream())\n",
    "using (var cryptoStream = new CryptoStream(encryptedStream, encryptor, CryptoStreamMode.Write))\n",
    "using (var streamWriter = new StreamWriter(cryptoStream, Encoding.UTF8)) // This handles converting your data from text to bytes\n",
    "{\n",
    "    encryptedStream.Write(aes.IV, 0, aes.IV.Length); // Write the IV to the stream\n",
    "    streamWriter.Write(data); // Encrypt the data\n",
    "    streamWriter.Flush();\n",
    "    cryptoStream.FlushFinalBlock();\n",
    "    encryptedBytes = encryptedStream.ToArray();\n",
    "}\n",
    "\n",
    "string decryptedText;\n",
    "\n",
    "// Decrypt the data\n",
    "// Note: when decrypting an in-memory byte[], there is a shortcut that bypassess the need for a stream, but I am sticking with streams for consistency\n",
    "using (var aes = Aes.Create())\n",
    "using (var inputStream = new MemoryStream())\n",
    "using (var outputStream = new MemoryStream())\n",
    "{\n",
    "    inputStream.Write(encryptedBytes, 0, encryptedBytes.Length); // Write the encrypted data to the stream\n",
    "    inputStream.Position = 0;\n",
    "    var iv = new byte[16];\n",
    "    inputStream.Read(iv, 0, iv.Length); // Read the IV from the stream\n",
    "\n",
    "    using (var decryptor = aes.CreateDecryptor(key, iv))\n",
    "    using (var cryptoStream = new CryptoStream(inputStream, decryptor, CryptoStreamMode.Read))\n",
    "    {\n",
    "        cryptoStream.CopyTo(outputStream); // Decrypt the data - note that the pointer is at byte 16 at this point\n",
    "        outputStream.Flush();\n",
    "    }\n",
    "    outputStream.Position = 0; // Reset the pointer to the start of the stream - not all streams can do this!!\n",
    "    using (var streamReader = new StreamReader(outputStream, UTF8Encoding.UTF8)) // This handles converting your data from bytes to text\n",
    "    {\n",
    "        decryptedText = streamReader.ReadToEnd();\n",
    "    }\n",
    "}\n",
    "\n",
    "Console.WriteLine(\"Input: {0}\", data);\n",
    "Console.WriteLine(\"Decrypted: {0}\", decryptedText);"
   ]
  },
  {
   "cell_type": "markdown",
   "metadata": {},
   "source": [
    "# Bonus content"
   ]
  },
  {
   "cell_type": "markdown",
   "metadata": {},
   "source": [
    "## A. Use the envelope method"
   ]
  },
  {
   "cell_type": "markdown",
   "metadata": {},
   "source": [
    "This is a well-known pattern implemented, for example, by Azure Blob Storage Client-Side Encryption."
   ]
  },
  {
   "cell_type": "markdown",
   "metadata": {},
   "source": [
    "#### The problem"
   ]
  },
  {
   "cell_type": "markdown",
   "metadata": {},
   "source": [
    "- Using the *same* symmetric encryption for every item increases risk:\n",
    "  - If someone gets that key, it is game over.\n",
    "  - Despite the IV, there *may* be ways to deduce the key if you have many items encrypted with the same symmetric key."
   ]
  },
  {
   "cell_type": "markdown",
   "metadata": {},
   "source": [
    "#### The solution"
   ]
  },
  {
   "cell_type": "markdown",
   "metadata": {},
   "source": [
    "- Using a unique Key for every item you encrypt (Aes creates one for you automatically)\n",
    "- Encrypt the Symmetric key with an Asymetric key (i.e. public/private key pair)\n",
    "- Store the *encrypted* symmetric key alongside the IV and the encrypted content.\n",
    "- Ideally use Azure Keyvault (or similar) to encrypt the symmetric key.\n",
    "  - Also enable Key Rotation on the key used so you change the asymetric key regularly\n",
    "  - Store a reference to the correct asymetric key so you can decrypt the symmetric key when you want to read the content."
   ]
  },
  {
   "cell_type": "markdown",
   "metadata": {},
   "source": [
    "## B. Authenticated Encryption"
   ]
  },
  {
   "cell_type": "markdown",
   "metadata": {
    "dotnet_interactive": {
     "language": "csharp"
    }
   },
   "source": [
    "### The problem"
   ]
  },
  {
   "cell_type": "code",
   "execution_count": null,
   "metadata": {
    "dotnet_interactive": {
     "language": "csharp"
    },
    "vscode": {
     "languageId": "dotnet-interactive.csharp"
    }
   },
   "outputs": [
    {
     "name": "stdout",
     "output_type": "stream",
     "text": [
      "Input: Hello Ægir 个 😮\r\n",
      "Decrypted: q��م���\u001b��j@#zZ��Z䛘�\r\n"
     ]
    }
   ],
   "source": [
    "using System.Security.Cryptography;\n",
    "using System.IO;\n",
    "\n",
    "var key = Aes.Create().Key;\n",
    "var data = \"Hello Ægir 个 😮\";\n",
    "\n",
    "byte[] encryptedBytes;\n",
    "\n",
    "// Encrypt the data\n",
    "using (var aes = Aes.Create())\n",
    "using (var encryptor = aes.CreateEncryptor(key, aes.IV)) // Provide your own key, but use the generated IV\n",
    "using (var encryptedStream = new MemoryStream())\n",
    "using (var cryptoStream = new CryptoStream(encryptedStream, encryptor, CryptoStreamMode.Write))\n",
    "using (var streamWriter = new StreamWriter(cryptoStream, Encoding.UTF8)) // This handles converting your data from text to bytes\n",
    "{\n",
    "    encryptedStream.Write(aes.IV, 0, aes.IV.Length); // Write the IV to the stream\n",
    "    streamWriter.Write(data); // Encrypt the data\n",
    "    streamWriter.Flush();\n",
    "    cryptoStream.FlushFinalBlock();\n",
    "    encryptedBytes = encryptedStream.ToArray();\n",
    "}\n",
    "\n",
    "// LET'S MESS WITH THE ENCRYPTED DATA!!\n",
    "encryptedBytes[18] = 0;\n",
    "encryptedBytes[19] = 0;\n",
    "encryptedBytes[20] = 0;\n",
    "\n",
    "string decryptedText;\n",
    "\n",
    "// Decrypt the data\n",
    "// Note: when decrypting an in-memory byte[], there is a shortcut that bypassess the need for a stream, but I am sticking with streams for consistency\n",
    "using (var aes = Aes.Create())\n",
    "using (var inputStream = new MemoryStream())\n",
    "using (var outputStream = new MemoryStream())\n",
    "{\n",
    "    inputStream.Write(encryptedBytes, 0, encryptedBytes.Length); // Write the encrypted data to the stream\n",
    "    inputStream.Position = 0;\n",
    "    var iv = new byte[16];\n",
    "    inputStream.Read(iv, 0, iv.Length); // Read the IV from the stream\n",
    "\n",
    "    using (var decryptor = aes.CreateDecryptor(key, iv))\n",
    "    using (var cryptoStream = new CryptoStream(inputStream, decryptor, CryptoStreamMode.Read))\n",
    "    {\n",
    "        cryptoStream.CopyTo(outputStream); // Decrypt the data - note that the pointer is at byte 16 at this point\n",
    "        outputStream.Flush();\n",
    "    }\n",
    "    outputStream.Position = 0; // Reset the pointer to the start of the stream - not all streams can do this!!\n",
    "    using (var streamReader = new StreamReader(outputStream, UTF8Encoding.UTF8)) // This handles converting your data from bytes to text\n",
    "    {\n",
    "        decryptedText = streamReader.ReadToEnd();\n",
    "    }\n",
    "}\n",
    "\n",
    "Console.WriteLine(\"Input: {0}\", data);\n",
    "Console.WriteLine(\"Decrypted: {0}\", decryptedText);"
   ]
  },
  {
   "cell_type": "markdown",
   "metadata": {},
   "source": [
    "Note that the code *didn't blow up*. According to the experts, this leads to a number of practically-exploitable vulnerabilities (see [Security Driven .Net](https://securitydriven.net/) and the advice is therefore to use \"authenticated encryption\", which will detect any tampering."
   ]
  },
  {
   "cell_type": "markdown",
   "metadata": {},
   "source": [
    "### The solution"
   ]
  },
  {
   "cell_type": "markdown",
   "metadata": {},
   "source": [
    "- Authenticated Encryption in essence means you create a Hash-based Message Authentication Code (HMAC) for the encrypted content (incl. the IV) using, ideally, a separate secret.\n",
    "\n",
    "- The book referenced above explains how to do this.\n",
    "\n",
    "- These days I would personally recommend using Azure Keyvault or similar to do this HMAC signing instead.\n",
    "\n",
    "- One major challenge is that you need to keep all of the encrypted content in memory so you can create the HMAC. "
   ]
  },
  {
   "cell_type": "markdown",
   "metadata": {},
   "source": [
    "## Shameless plug #1"
   ]
  },
  {
   "cell_type": "markdown",
   "metadata": {},
   "source": [
    "I am working on an open-source [library](https://github.com/NewOrbit/NewOrbit.Azure.KeyVault.Cryptography) that encapsulates all of the above and takes all of the choices away. It uses Azure Keyvault to implement both the envelope method and authenticated encryption (and you don't get a choice if you want it).\n",
    "\n",
    "It's work in progress, but this talk has prompted me to get it finished and released real-soon-now."
   ]
  },
  {
   "cell_type": "markdown",
   "metadata": {},
   "source": [
    "## Shameless plug #2"
   ]
  },
  {
   "cell_type": "markdown",
   "metadata": {},
   "source": [
    "<img src=\"https://neworbit.co.uk/uploads/NewOrbit-logo-strapline_white.svg\" style=\"width:400px;\"/>\n",
    "\n",
    "My company, NewOrbit is an Azure partner who specialises in helping developers make the most of Azure. Software houses buy their Azure through us for the same price they get it from Microsoft. Our customers get access to our Azure expertise at reduced rates, in particular around cost optimisation and security.\n",
    "\n",
    "<img src=\"https://neworbit.co.uk/uploads/NewOrbit-MS-Partner-Competencies.gif\"  />"
   ]
  },
  {
   "cell_type": "markdown",
   "metadata": {},
   "source": [
    "## References"
   ]
  },
  {
   "cell_type": "markdown",
   "metadata": {},
   "source": [
    "- [Security Driven .Net](https://securitydriven.net/) book. An oldie but still awesome.\n",
    "- [Applied Cryptography in .NET and Azure Key Vault](https://www.apress.com/us/applied-cryptography-in--net-and-azure-key-vault/16427394) book\n",
    "- [Characters, Symbols and the Unicode Miracle - Computerphile](https://www.youtube.com/watch?v=MijmeoH9LT4) - video explaining UTF text encoding\n",
    "- [C# In depth - Unicode](https://www.csharpindepth.com/articles/Unicode) - excellent description of the whole text encoding thing"
   ]
  }
 ],
 "metadata": {
  "kernelspec": {
   "display_name": ".NET (C#)",
   "language": "C#",
   "name": ".net-csharp"
  },
  "language_info": {
   "name": "C#"
  }
 },
 "nbformat": 4,
 "nbformat_minor": 2
}
